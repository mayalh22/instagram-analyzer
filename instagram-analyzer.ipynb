{
 "cells": [
  {
   "cell_type": "code",
   "execution_count": null,
   "id": "fc2410ee",
   "metadata": {
    "vscode": {
     "languageId": "plaintext"
    }
   },
   "outputs": [],
   "source": [
    "import pandas as pd\n",
    "from bs4 import BeautifulSoup\n",
    "\n",
    "with open('data/connections/followers_and_following/followers.html', 'r') as f:\n",
    "    soup = BeautifulSoup(f, 'html.parser')\n",
    "\n",
    "followers = [a.text for a in soup.find_all('a', class_='profile-link')]\n",
    "\n",
    "print(f\"Total followers: {len(followers)}\")\n"
   ]
  }
 ],
 "metadata": {
  "language_info": {
   "name": "python"
  }
 },
 "nbformat": 4,
 "nbformat_minor": 5
}
