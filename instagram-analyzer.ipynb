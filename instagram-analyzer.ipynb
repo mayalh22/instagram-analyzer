{
 "cells": [
  {
   "cell_type": "code",
   "execution_count": null,
   "id": "fc2410ee",
   "metadata": {
    "vscode": {
     "languageId": "plaintext"
    }
   },
   "outputs": [],
   "source": [
    "import os\n",
    "from bs4 import BeautifulSoup\n",
    "\n",
    "file_path = 'data/connections/followers_and_following/pending_follow_requests.html'\n",
    "\n",
    "if os.path.exists(file_path):\n",
    "    with open(file_path, 'r') as f:\n",
    "        soup = BeautifulSoup(f, 'html.parser')\n",
    "    followers = [a.text for a in soup.find_all('a', class_='profile-link')]\n",
    "    print(f\"Total followers (pending follow requests): {len(followers)}\")\n",
    "else:\n",
    "    print(f\"File not found: {file_path}\")\n"
   ]
  }
 ],
 "metadata": {
  "language_info": {
   "name": "python"
  }
 },
 "nbformat": 4,
 "nbformat_minor": 5
}
